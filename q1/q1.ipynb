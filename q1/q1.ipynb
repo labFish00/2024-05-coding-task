{
 "cells": [
  {
   "cell_type": "markdown",
   "metadata": {},
   "source": [
    "# 問1\n",
    "  \n",
    "## コード\n",
    "\n",
    "### シミュレーション"
   ]
  },
  {
   "cell_type": "markdown",
   "metadata": {},
   "source": [
    "#### 可読性を犠牲にして実効速度を優先したドローンクラス"
   ]
  },
  {
   "cell_type": "code",
   "execution_count": null,
   "metadata": {},
   "outputs": [],
   "source": [
    "import numpy as np\n",
    "import numpy.typing as npt\n",
    "\n",
    "\n",
    "class Drone:\n",
    "    _startTime = 0.0\n",
    "    _change = 1\n",
    "\n",
    "    def __init__(self, a: int, b: int, v: int):\n",
    "        self._A = a\n",
    "        self._B = b\n",
    "        self._s = np.random.rand(2) * [a, b]\n",
    "        self._d = np.random.rand(2) * [a, b]\n",
    "        self.drone = self._s\n",
    "        self._driveVelocity = v\n",
    "\n",
    "    @property\n",
    "    def change(self):\n",
    "        return self._change\n",
    "\n",
    "    def _droneMove(self, t: float):\n",
    "        sdAngle = np.arctan2(self._d[1] - self._s[1], self._d[0] - self._s[0])\n",
    "        dronevArr = self._driveVelocity * np.array([np.cos(sdAngle), np.sin(sdAngle)])\n",
    "        sectionTime = t - self._startTime\n",
    "        self.drone = self._s + dronevArr * sectionTime\n",
    "\n",
    "    def _changeDestination(self):\n",
    "        self._startTime += np.linalg.norm(self._s - self._d) / self._driveVelocity\n",
    "        self._s = self._d\n",
    "        self.drone = self._d\n",
    "        self._d = np.random.rand(2) * [self._A, self._B]\n",
    "        self._change += 1\n",
    "\n",
    "    def advanceTime(self, t: float):\n",
    "        if t < self._startTime:\n",
    "            raise ValueError(\"Time cannot go backwards\")\n",
    "\n",
    "        while t - self._startTime > (\n",
    "            np.linalg.norm(self._s - self._d) / self._driveVelocity\n",
    "        ):\n",
    "            self._changeDestination()\n",
    "\n",
    "        self._droneMove(t)\n"
   ]
  },
  {
   "cell_type": "markdown",
   "metadata": {},
   "source": [
    "#### シミュレーションクラス"
   ]
  },
  {
   "cell_type": "code",
   "execution_count": null,
   "metadata": {},
   "outputs": [],
   "source": [
    "class Sim:\n",
    "    _contacted = False\n",
    "    _topCount = 0\n",
    "    _buttomCount = 0\n",
    "\n",
    "    def __init__(self, a, b, v, rng):\n",
    "        self._n1 = Drone(a, b, v)\n",
    "        self._n2 = Drone(a, b, v)\n",
    "        self._V = v\n",
    "        self._rang = rng\n",
    "\n",
    "    def check_distace(self, distance):\n",
    "        return self._rang > distance\n",
    "\n",
    "    def counter(self, contact: bool):\n",
    "        if contact:\n",
    "            self._contacted = True\n",
    "        else:\n",
    "            if self._contacted:\n",
    "                self._buttomCount += 1\n",
    "            self._topCount += 1\n",
    "            self._contacted = False\n",
    "\n",
    "    def main(self):\n",
    "\n",
    "        T = 2000000\n",
    "        res = 1\n",
    "\n",
    "        n1route = []\n",
    "        n2route = []\n",
    "        distances = []\n",
    "        contacts = []\n",
    "\n",
    "        for i in range(1, T):\n",
    "            t = i / res\n",
    "            self._n1.advanceTime(t)\n",
    "            self._n2.advanceTime(t)\n",
    "            n1route.append(self._n1.drone)\n",
    "            n2route.append(self._n2.drone)\n",
    "            if (i / T) * 100 % 10 == 0:\n",
    "                print(\"rang:\", self._rang, \"progress:\", (i / T) * 100, \"%\")\n",
    "\n",
    "        distances = np.linalg.norm(np.array(n1route) - np.array(n2route), axis=1)\n",
    "        contacts = distances < self._rang\n",
    "\n",
    "        for contact in contacts:\n",
    "            self.counter(contact)\n",
    "\n",
    "        print(self._topCount / self._buttomCount)\n",
    "        print(self._topCount)\n",
    "        print(self._buttomCount)\n",
    "        el = T * self._V * 2 / (self._n1.change + self._n2.change)\n",
    "        return [self._topCount / self._buttomCount, el]\n"
   ]
  },
  {
   "cell_type": "markdown",
   "metadata": {},
   "source": [
    "### 理論値"
   ]
  },
  {
   "cell_type": "code",
   "execution_count": null,
   "metadata": {},
   "outputs": [],
   "source": [
    "import math\n",
    "import numpy as np\n",
    "from scipy.integrate import dblquad\n",
    "\n",
    "def theoroticalEL(a, b):\n",
    "    term1 = (a**3 / b**2 + b**3 / a**2 + math.sqrt(a**2 + b**2) * (3 - a**2 / b**2 - b**2 / a**2)) / 15\n",
    "    term2 = (b**2 / a * math.acosh(math.sqrt(a**2 + b**2) / b) + a**2 / b * math.acosh(math.sqrt(a**2 + b**2) / a)) / 6\n",
    "    E_L = term1 + term2\n",
    "    return E_L\n",
    "\n",
    "class Theorotical_ETc:\n",
    "    \n",
    "\n",
    "    def __init__(self, a, b, v, r):\n",
    "        self._A = a\n",
    "        self._B = b\n",
    "        self._V = v\n",
    "        self._R = r\n",
    "\n",
    "    def _fDeltaX(self, x):\n",
    "        return 12 * (self._A - x)**3 * (self._A**2 + 3*self._A*x + x**2) / (5 * self._A**6)\n",
    "\n",
    "\n",
    "    def _fDeltaY(self, y):\n",
    "        return 12 * (self._B - y)**3 * (self._B**2 + 3*self._B*y + y**2) / (5 * self._B**6)\n",
    "\n",
    "\n",
    "    def _integrand(self, y, x):\n",
    "        return self._fDeltaX(x) * self._fDeltaY(y)\n",
    "\n",
    "    def main(self):\n",
    "        PrRr = dblquad(self._integrand, 0, min(self._R, self._B), lambda y: 0, lambda y: min(np.sqrt(self._R**2 - y**2), self._A))[0]\n",
    "\n",
    "        ETCc = (np.pi**2 * self._R) / (8 * self._V)\n",
    "\n",
    "        # 式(12) を計算\n",
    "        ETc = ETCc / PrRr\n",
    "\n",
    "        return ETc    \n"
   ]
  },
  {
   "cell_type": "markdown",
   "metadata": {},
   "source": [
    "### シミュレーションの実行"
   ]
  },
  {
   "cell_type": "code",
   "execution_count": null,
   "metadata": {},
   "outputs": [],
   "source": [
    "a = 10000  # サービスエリアの横の長さ (m)\n",
    "b = 10000  # サービスエリアの縦の長さ (m)\n",
    "v = 10  # 端末の移動速度 (m/s)\n",
    "\n",
    "results = []\n",
    "\n",
    "for r in range(100, 1000, 100):\n",
    "    ETcTheo = Theorotical_ETc(a, b, v, r)\n",
    "    ElTheo = theoroticalEL(a, b)\n",
    "    sim = Sim(a, b, v, r).main()    \n",
    "    results.append([r, ETcTheo.main(), ElTheo, sim[0], sim[1]])\n"
   ]
  },
  {
   "cell_type": "code",
   "execution_count": null,
   "metadata": {},
   "outputs": [],
   "source": [
    "import matplotlib.pyplot as plt\n",
    "# グラフの描画\n",
    "results = np.array(results)\n",
    "plt.plot(results[:, 0], results[:, 1], label='E(Tc)理論値')\n",
    "plt.plot(results[:, 0], results[:, 2], label='E(L)理論値')\n",
    "plt.plot(results[:, 0], results[:, 3], label='E(Tc)シミュレーション')\n",
    "plt.plot(results[:, 0], results[:, 4], label='E(L)シミュレーション')\n",
    "plt.xlabel('R')\n",
    "plt.ylabel('ETc')"
   ]
  },
  {
   "cell_type": "markdown",
   "metadata": {},
   "source": [
    "## 結果\n",
    "シミュレーション値と理論値に若干の誤差が出てしまったが、これは試行回数が足りないものによって発生していると考えられる。  \n",
    "実際に試行回数を増やすと理論値にかなり近い値が得られることは確認済みである。\n",
    "現在のコードも高速化を図ったが、さらなる工夫をすることは今後の課題としていきたい。"
   ]
  },
  {
   "cell_type": "markdown",
   "metadata": {},
   "source": []
  }
 ],
 "metadata": {
  "kernelspec": {
   "display_name": ".venv",
   "language": "python",
   "name": "python3"
  },
  "language_info": {
   "codemirror_mode": {
    "name": "ipython",
    "version": 3
   },
   "file_extension": ".py",
   "mimetype": "text/x-python",
   "name": "python",
   "nbconvert_exporter": "python",
   "pygments_lexer": "ipython3",
   "version": "3.12.2"
  }
 },
 "nbformat": 4,
 "nbformat_minor": 2
}
