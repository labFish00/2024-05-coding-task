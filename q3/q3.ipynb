{
 "cells": [
  {
   "cell_type": "markdown",
   "metadata": {},
   "source": [
    "# 問3"
   ]
  },
  {
   "cell_type": "markdown",
   "metadata": {},
   "source": [
    "## コード"
   ]
  },
  {
   "cell_type": "markdown",
   "metadata": {},
   "source": [
    "### シミュレーションモデル"
   ]
  },
  {
   "cell_type": "code",
   "execution_count": null,
   "metadata": {},
   "outputs": [],
   "source": [
    "import simpy\n",
    "import numpy as np\n",
    "\n",
    "class Model:\n",
    "    _arrivals = []\n",
    "    _durationQueues, _durationServices = [], []\n",
    "\n",
    "    def __init__(self, S, debug=False):\n",
    "        self._env = simpy.Environment()\n",
    "        self._capacity = simpy.Resource(self._env, capacity=S)\n",
    "        self._env.process(self._arrival())\n",
    "        self._debug = debug\n",
    "\n",
    "    def arrivalTime(self):\n",
    "        # オーバーライド前提なのでテキトーです。\n",
    "        return 0.0\n",
    "\n",
    "    def serviceTime(self):\n",
    "        # オーバーライド前提なのでテキトーです。\n",
    "        return 0.0\n",
    "\n",
    "    def _arrival(self):\n",
    "        customerId = 0\n",
    "        while True:\n",
    "            yield self._env.timeout(self.arrivalTime())\n",
    "            arrivalTime = self._env.now\n",
    "            customerId += 1\n",
    "            self._arrivals.append(arrivalTime)\n",
    "            if self._debug:\n",
    "                print(\"{:.0f} 人目が到着 {:2f}\".format(customerId, arrivalTime))\n",
    "            self._env.process(self.operation(customerId, arrivalTime))\n",
    "\n",
    "    def _beforeQueue(self, customerId):\n",
    "        queueIn = self._env.now\n",
    "        if self._debug:\n",
    "            print(\"{:.0f} 人目が並び始めた {:.2f}\".format(customerId, queueIn))\n",
    "        return queueIn\n",
    "\n",
    "    def _afterQueue(self, customerId):\n",
    "        queueOut = self._env.now\n",
    "        if self._debug:\n",
    "            print(\"{:.0f} 人目がサービスに入った {:.2f}\".format(customerId, queueOut))\n",
    "        return queueOut\n",
    "\n",
    "    def _departure(self, customerId):\n",
    "        departureTime = self._env.now\n",
    "        if self._debug:\n",
    "            print(\"{:.0f} 人目が出発した {:.2f}\".format(customerId, departureTime))\n",
    "        return departureTime\n",
    "\n",
    "    def tally(self, arrivalTime, queueIn, queueOut, departureTime):\n",
    "        serviceTime = departureTime - queueOut\n",
    "        self._durationServices.append(serviceTime)\n",
    "        queueTime = queueOut - arrivalTime\n",
    "        self._durationQueues.append(queueTime)\n",
    "\n",
    "    def operation(self, customerId, arrivalTime):\n",
    "        with self._capacity.request() as req:\n",
    "            queueIn = self._beforeQueue(customerId)\n",
    "            yield req\n",
    "            queueOut = self._afterQueue(customerId)\n",
    "\n",
    "            yield self._env.timeout(self.serviceTime())\n",
    "            departureTime = self._departure(customerId)\n",
    "\n",
    "            self.tally(arrivalTime, queueIn, queueOut, departureTime)\n",
    "\n",
    "    def run(self, until):\n",
    "        self._env.run(until=until)\n",
    "\n",
    "    def checkResult(self):\n",
    "        return {\n",
    "            \"arrival\": np.mean(np.diff(self._arrivals)),\n",
    "            \"queue\": np.mean(self._durationQueues),\n",
    "            \"service\": np.mean(self._durationServices),\n",
    "        }"
   ]
  },
  {
   "cell_type": "markdown",
   "metadata": {},
   "source": [
    "### 理論値計算"
   ]
  },
  {
   "cell_type": "code",
   "execution_count": null,
   "metadata": {},
   "outputs": [],
   "source": [
    "def theorotical(s, lam, mu):\n",
    "    rho = lam / (s * mu)\n",
    "    As = 1\n",
    "    B = 1\n",
    "    for n in range(1, s + 1):\n",
    "        As = As * (s * rho / n)\n",
    "        B = B + As\n",
    "\n",
    "    p0 = 1 / (B + As * rho / (1 - rho))\n",
    "    Lq = rho / ((1 - rho) ** 2) * As * p0\n",
    "    wq = Lq / lam\n",
    "\n",
    "    return wq"
   ]
  },
  {
   "cell_type": "markdown",
   "metadata": {},
   "source": [
    "### M/M/s/∞モデルの定義とプログラムの実行"
   ]
  },
  {
   "cell_type": "code",
   "execution_count": null,
   "metadata": {},
   "outputs": [],
   "source": [
    "class MMsInf(Model):\n",
    "    before = 0.0\n",
    "\n",
    "    def __init__(self, s, lam, mu):\n",
    "        super().__init__(s)\n",
    "        self._lam = lam\n",
    "        self._mu = mu\n",
    "\n",
    "    def arrivalTime(self):\n",
    "        return np.random.exponential(1 / self._lam)\n",
    "\n",
    "    def serviceTime(self):\n",
    "        return np.random.exponential(1 / self._mu)\n",
    "\n",
    "\n",
    "s = 1\n",
    "lam = 1\n",
    "mu = 2\n",
    "\n",
    "poEx = MMsInf(s, lam, mu)\n",
    "poEx.run(100000)\n",
    "results1 = poEx.checkResult()\n",
    "print(\"シミュレーションの平均到着間隔:\", results1[\"arrival\"])\n",
    "print(\"シミュレーションの平均待ち時間:\", results1[\"queue\"])\n",
    "print(\"待ち時間の理論値\",theorotical(s, lam, mu))"
   ]
  },
  {
   "cell_type": "markdown",
   "metadata": {},
   "source": [
    "## G(一様分布)/M/s/∞モデル"
   ]
  },
  {
   "cell_type": "code",
   "execution_count": null,
   "metadata": {},
   "outputs": [],
   "source": [
    "class UnExSInf(Model):\n",
    "    def __init__(self, s, lam, mu):\n",
    "        super().__init__(s)\n",
    "        self._lam = lam\n",
    "        self._mu = mu\n",
    "\n",
    "    def arrivalTime(self):\n",
    "        ave = 1 / self._lam\n",
    "        return np.random.uniform(ave - ave * 0.5, ave + ave * 0.5)\n",
    "\n",
    "    def serviceTime(self):\n",
    "        return np.random.exponential(1 / self._mu)\n",
    "\n",
    "s = 1\n",
    "lam = 5\n",
    "mu = 10\n",
    "\n",
    "unEx = UnExSInf(s, lam, mu)\n",
    "unEx.run(100000)\n",
    "results2 = unEx.checkResult()\n",
    "print(\"平均到着間隔:\", results2[\"arrival\"])\n",
    "print(\"シミュレーションの平均待ち時間:\", results2[\"queue\"])\n",
    "print(\"待ち時間の理論値\",theorotical(s, lam, mu))"
   ]
  },
  {
   "cell_type": "markdown",
   "metadata": {},
   "source": [
    "## G(カイ二乗分布)/M/s/∞モデル"
   ]
  },
  {
   "cell_type": "code",
   "execution_count": null,
   "metadata": {},
   "outputs": [],
   "source": [
    "class ChiExSInf(Model):\n",
    "    def __init__(self, s, lam, mu):\n",
    "        super().__init__(s)\n",
    "        self._lam = lam\n",
    "        self._mu = mu\n",
    "\n",
    "    def arrivalTime(self):\n",
    "        return np.random.chisquare(1 / self._lam)\n",
    "\n",
    "    def serviceTime(self):\n",
    "        return np.random.exponential(1 / self._mu)\n",
    "\n",
    "s = 1\n",
    "lam = 5\n",
    "mu = 10\n",
    "\n",
    "chiEx = ChiExSInf(s, lam, mu)\n",
    "chiEx.run(100000)\n",
    "results3 = chiEx.checkResult()\n",
    "print(\"平均到着間隔:\", results3[\"arrival\"])\n",
    "print(\"シミュレーションの平均待ち時間:\", results3[\"queue\"])\n",
    "print(\"待ち時間の理論値\", theorotical(s, lam, mu))"
   ]
  },
  {
   "cell_type": "markdown",
   "metadata": {},
   "source": [
    "## M/G(一様分布)/S/∞モデル"
   ]
  },
  {
   "cell_type": "code",
   "execution_count": null,
   "metadata": {},
   "outputs": [],
   "source": [
    "class PoUniSInf(Model):\n",
    "    def __init__(self, s, lam, mu):\n",
    "        super().__init__(s)\n",
    "        self._lam = lam\n",
    "        self._mu = mu\n",
    "\n",
    "    def arrivalTime(self):\n",
    "        return np.random.poisson(1 / self._lam)\n",
    "\n",
    "    def serviceTime(self):\n",
    "        return np.random.uniform(1 / self._mu - 1 / self._mu * 0.5, 1 / self._mu + 1 / self._mu * 0.5)\n",
    "\n",
    "\n",
    "s = 1\n",
    "lam = 5\n",
    "mu = 10\n",
    "\n",
    "poUniEx = PoUniSInf(s, lam, mu)\n",
    "poUniEx.run(100000)\n",
    "results4 = poUniEx.checkResult()\n",
    "print(\"平均到着間隔:\", results4[\"arrival\"])\n",
    "print(\"平均サービス時間:\", results4[\"service\"])\n",
    "print(\"シミュレーションの平均待ち時間:\", results4[\"queue\"])\n",
    "print(\"待ち時間の理論値\", theorotical(s, lam, mu))"
   ]
  },
  {
   "cell_type": "markdown",
   "metadata": {},
   "source": [
    "## M/G(カイ二乗分布)/S/∞モデル"
   ]
  },
  {
   "cell_type": "code",
   "execution_count": null,
   "metadata": {},
   "outputs": [],
   "source": [
    "class PoChiSInf(Model):\n",
    "    def __init__(self, s, lam, mu):\n",
    "        super().__init__(s)\n",
    "        self._lam = lam\n",
    "        self._mu = mu\n",
    "\n",
    "    def arrivalTime(self):\n",
    "        return np.random.poisson(1 / self._lam)\n",
    "\n",
    "    def serviceTime(self):\n",
    "        return np.random.chisquare(1 / self._mu)\n",
    "\n",
    "s = 1\n",
    "lam = 5\n",
    "mu = 10\n",
    "\n",
    "poChiEx = PoChiSInf(s, lam, mu)\n",
    "poChiEx.run(100000)\n",
    "results5 = poChiEx.checkResult()\n",
    "print(\"平均到着間隔:\", results5[\"arrival\"])\n",
    "print(\"平均サービス時間:\", results5[\"service\"])\n",
    "print(\"シミュレーションの平均待ち時間:\", results5[\"queue\"])\n",
    "print(\"待ち時間の理論値\", theorotical(s, lam, mu))"
   ]
  },
  {
   "cell_type": "markdown",
   "metadata": {},
   "source": [
    "## G(一様分布)/G(一様分布)/s/∞モデル"
   ]
  },
  {
   "cell_type": "code",
   "execution_count": null,
   "metadata": {},
   "outputs": [],
   "source": [
    "class UniUniSInf(Model):\n",
    "    def __init__(self, s, lam, mu):\n",
    "        super().__init__(s)\n",
    "        self._lam = lam\n",
    "        self._mu = mu\n",
    "\n",
    "    def arrivalTime(self):\n",
    "        return np.random.uniform(1 / self._lam - 1 / self._lam * 0.5, 1 / self._lam + 1 / self._lam * 0.5)\n",
    "\n",
    "    def serviceTime(self):\n",
    "        return np.random.uniform(1 / self._mu - 1 / self._mu * 0.5, 1 / self._mu + 1 / self._mu * 0.5)\n",
    "    \n",
    "s = 1\n",
    "lam = 5\n",
    "mu = 10\n",
    "\n",
    "uniUniEx = UniUniSInf(s, lam, mu)\n",
    "uniUniEx.run(100000)\n",
    "results6 = uniUniEx.checkResult()\n",
    "print(\"平均到着間隔:\", results6[\"arrival\"])\n",
    "print(\"平均サービス時間:\", results6[\"service\"])\n",
    "print(\"シミュレーションの平均待ち時間:\", results6[\"queue\"])\n",
    "print(\"待ち時間の理論値\", theorotical(s, lam, mu))"
   ]
  },
  {
   "cell_type": "markdown",
   "metadata": {},
   "source": [
    "### G(カイ二乗分布)/G(カイ二乗分布)/s/∞モデル"
   ]
  },
  {
   "cell_type": "code",
   "execution_count": null,
   "metadata": {},
   "outputs": [],
   "source": [
    "class ChiChiSInf(Model):\n",
    "    def __init__(self, s, lam, mu):\n",
    "        super().__init__(s)\n",
    "        self._lam = lam\n",
    "        self._mu = mu\n",
    "\n",
    "    def arrivalTime(self):\n",
    "        return np.random.chisquare(1 / self._lam)\n",
    "\n",
    "    def serviceTime(self):\n",
    "        return np.random.chisquare(1 / self._mu)\n",
    "    \n",
    "s = 1\n",
    "lam = 5\n",
    "mu = 10\n",
    "\n",
    "chiChiEx = ChiChiSInf(s, lam, mu)\n",
    "chiChiEx.run(100000)\n",
    "results7 = chiChiEx.checkResult()\n",
    "print(\"平均到着間隔:\", results7[\"arrival\"])\n",
    "print(\"平均サービス時間:\", results7[\"service\"])\n",
    "print(\"シミュレーションの平均待ち時間:\", results7[\"queue\"])\n",
    "print(\"待ち時間の理論値\", theorotical(s, lam, mu))"
   ]
  },
  {
   "cell_type": "markdown",
   "metadata": {},
   "source": [
    "### G(一様分布)/G(カイ二乗分布)/s/∞モデル"
   ]
  },
  {
   "cell_type": "code",
   "execution_count": null,
   "metadata": {},
   "outputs": [],
   "source": [
    "class UniChiSInf(Model):\n",
    "    def __init__(self, s, lam, mu):\n",
    "        super().__init__(s)\n",
    "        self._lam = lam\n",
    "        self._mu = mu\n",
    "\n",
    "    def arrivalTime(self):\n",
    "        return np.random.uniform(1 / self._lam - 1 / self._lam * 0.5, 1 / self._lam + 1 / self._lam * 0.5)\n",
    "\n",
    "    def serviceTime(self):\n",
    "        return np.random.chisquare(1 / self._mu)\n",
    "    \n",
    "s = 1\n",
    "lam = 5\n",
    "mu = 10\n",
    "\n",
    "uniChiEx = UniChiSInf(s, lam, mu)\n",
    "uniChiEx.run(100000)\n",
    "results8 = uniChiEx.checkResult()\n",
    "print(\"平均到着間隔:\", results8[\"arrival\"])\n",
    "print(\"平均サービス時間:\", results8[\"service\"])\n",
    "print(\"シミュレーションの平均待ち時間:\", results8[\"queue\"])\n",
    "print(\"待ち時間の理論値\", theorotical(s, lam, mu))"
   ]
  },
  {
   "cell_type": "markdown",
   "metadata": {},
   "source": [
    "### G(カイ二乗分布)/G(一様分布)/s/∞モデル"
   ]
  },
  {
   "cell_type": "code",
   "execution_count": null,
   "metadata": {},
   "outputs": [],
   "source": [
    "class ChiUniSInf(Model):\n",
    "    def __init__(self, s, lam, mu):\n",
    "        super().__init__(s)\n",
    "        self._lam = lam\n",
    "        self._mu = mu\n",
    "\n",
    "    def arrivalTime(self):\n",
    "        return np.random.chisquare(1 / self._lam)\n",
    "\n",
    "    def serviceTime(self):\n",
    "        return np.random.uniform(1 / self._mu - 1 / self._mu * 0.5, 1 / self._mu + 1 / self._mu * 0.5)\n",
    "    \n",
    "s = 1\n",
    "lam = 5\n",
    "mu = 10\n",
    "\n",
    "chiUniEx = ChiUniSInf(s, lam, mu)\n",
    "chiUniEx.run(100000)\n",
    "results9 = chiUniEx.checkResult()\n",
    "print(\"平均到着間隔:\", results9[\"arrival\"])\n",
    "print(\"平均サービス時間:\", results9[\"service\"])\n",
    "print(\"シミュレーションの平均待ち時間:\", results9[\"queue\"])\n",
    "print(\"待ち時間の理論値\", theorotical(s, lam, mu))"
   ]
  }
 ],
 "metadata": {
  "kernelspec": {
   "display_name": ".venv",
   "language": "python",
   "name": "python3"
  },
  "language_info": {
   "codemirror_mode": {
    "name": "ipython",
    "version": 3
   },
   "file_extension": ".py",
   "mimetype": "text/x-python",
   "name": "python",
   "nbconvert_exporter": "python",
   "pygments_lexer": "ipython3",
   "version": "3.12.2"
  }
 },
 "nbformat": 4,
 "nbformat_minor": 2
}
